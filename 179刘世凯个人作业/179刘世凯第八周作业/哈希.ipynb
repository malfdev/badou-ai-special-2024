{
 "cells": [
  {
   "cell_type": "code",
   "execution_count": 3,
   "id": "56dabdbc",
   "metadata": {},
   "outputs": [
    {
     "ename": "error",
     "evalue": "OpenCV(4.5.5) D:\\a\\opencv-python\\opencv-python\\opencv\\modules\\imgproc\\src\\resize.cpp:4052: error: (-215:Assertion failed) !ssize.empty() in function 'cv::resize'\n",
     "output_type": "error",
     "traceback": [
      "\u001b[1;31m---------------------------------------------------------------------------\u001b[0m",
      "\u001b[1;31merror\u001b[0m                                     Traceback (most recent call last)",
      "\u001b[1;32m~\\AppData\\Local\\Temp\\ipykernel_39740\\2092065137.py\u001b[0m in \u001b[0;36m<module>\u001b[1;34m\u001b[0m\n\u001b[0;32m     58\u001b[0m \u001b[0mimg2\u001b[0m\u001b[1;33m=\u001b[0m\u001b[0mcv2\u001b[0m\u001b[1;33m.\u001b[0m\u001b[0mimread\u001b[0m\u001b[1;33m(\u001b[0m\u001b[1;34m'lenna_noise.png'\u001b[0m\u001b[1;33m)\u001b[0m\u001b[1;33m\u001b[0m\u001b[1;33m\u001b[0m\u001b[0m\n\u001b[0;32m     59\u001b[0m \u001b[0mhash1\u001b[0m\u001b[1;33m=\u001b[0m \u001b[0maHash\u001b[0m\u001b[1;33m(\u001b[0m\u001b[0mimg1\u001b[0m\u001b[1;33m)\u001b[0m\u001b[1;33m\u001b[0m\u001b[1;33m\u001b[0m\u001b[0m\n\u001b[1;32m---> 60\u001b[1;33m \u001b[0mhash2\u001b[0m\u001b[1;33m=\u001b[0m \u001b[0maHash\u001b[0m\u001b[1;33m(\u001b[0m\u001b[0mimg2\u001b[0m\u001b[1;33m)\u001b[0m\u001b[1;33m\u001b[0m\u001b[1;33m\u001b[0m\u001b[0m\n\u001b[0m\u001b[0;32m     61\u001b[0m \u001b[0mprint\u001b[0m\u001b[1;33m(\u001b[0m\u001b[0mhash1\u001b[0m\u001b[1;33m)\u001b[0m\u001b[1;33m\u001b[0m\u001b[1;33m\u001b[0m\u001b[0m\n\u001b[0;32m     62\u001b[0m \u001b[0mprint\u001b[0m\u001b[1;33m(\u001b[0m\u001b[0mhash2\u001b[0m\u001b[1;33m)\u001b[0m\u001b[1;33m\u001b[0m\u001b[1;33m\u001b[0m\u001b[0m\n",
      "\u001b[1;32m~\\AppData\\Local\\Temp\\ipykernel_39740\\2092065137.py\u001b[0m in \u001b[0;36maHash\u001b[1;34m(img)\u001b[0m\n\u001b[0;32m      5\u001b[0m \u001b[1;32mdef\u001b[0m \u001b[0maHash\u001b[0m\u001b[1;33m(\u001b[0m\u001b[0mimg\u001b[0m\u001b[1;33m)\u001b[0m\u001b[1;33m:\u001b[0m\u001b[1;33m\u001b[0m\u001b[1;33m\u001b[0m\u001b[0m\n\u001b[0;32m      6\u001b[0m     \u001b[1;31m#缩放为8*8\u001b[0m\u001b[1;33m\u001b[0m\u001b[1;33m\u001b[0m\u001b[1;33m\u001b[0m\u001b[0m\n\u001b[1;32m----> 7\u001b[1;33m     \u001b[0mimg\u001b[0m\u001b[1;33m=\u001b[0m\u001b[0mcv2\u001b[0m\u001b[1;33m.\u001b[0m\u001b[0mresize\u001b[0m\u001b[1;33m(\u001b[0m\u001b[0mimg\u001b[0m\u001b[1;33m,\u001b[0m\u001b[1;33m(\u001b[0m\u001b[1;36m8\u001b[0m\u001b[1;33m,\u001b[0m\u001b[1;36m8\u001b[0m\u001b[1;33m)\u001b[0m\u001b[1;33m,\u001b[0m\u001b[0minterpolation\u001b[0m\u001b[1;33m=\u001b[0m\u001b[0mcv2\u001b[0m\u001b[1;33m.\u001b[0m\u001b[0mINTER_CUBIC\u001b[0m\u001b[1;33m)\u001b[0m\u001b[1;33m\u001b[0m\u001b[1;33m\u001b[0m\u001b[0m\n\u001b[0m\u001b[0;32m      8\u001b[0m     \u001b[1;31m#转换为灰度图\u001b[0m\u001b[1;33m\u001b[0m\u001b[1;33m\u001b[0m\u001b[1;33m\u001b[0m\u001b[0m\n\u001b[0;32m      9\u001b[0m     \u001b[0mgray\u001b[0m\u001b[1;33m=\u001b[0m\u001b[0mcv2\u001b[0m\u001b[1;33m.\u001b[0m\u001b[0mcvtColor\u001b[0m\u001b[1;33m(\u001b[0m\u001b[0mimg\u001b[0m\u001b[1;33m,\u001b[0m\u001b[0mcv2\u001b[0m\u001b[1;33m.\u001b[0m\u001b[0mCOLOR_BGR2GRAY\u001b[0m\u001b[1;33m)\u001b[0m\u001b[1;33m\u001b[0m\u001b[1;33m\u001b[0m\u001b[0m\n",
      "\u001b[1;31merror\u001b[0m: OpenCV(4.5.5) D:\\a\\opencv-python\\opencv-python\\opencv\\modules\\imgproc\\src\\resize.cpp:4052: error: (-215:Assertion failed) !ssize.empty() in function 'cv::resize'\n"
     ]
    }
   ],
   "source": [
    "import cv2\n",
    "import numpy as np\n",
    " \n",
    "#均值哈希算法\n",
    "def aHash(img):\n",
    "    #缩放为8*8\n",
    "    img=cv2.resize(img,(8,8),interpolation=cv2.INTER_CUBIC)\n",
    "    #转换为灰度图\n",
    "    gray=cv2.cvtColor(img,cv2.COLOR_BGR2GRAY)\n",
    "    #s为像素和初值为0，hash_str为hash值初值为''\n",
    "    s=0\n",
    "    hash_str=''\n",
    "    #遍历累加求像素和\n",
    "    for i in range(8):\n",
    "        for j in range(8):\n",
    "            s=s+gray[i,j]\n",
    "    #求平均灰度\n",
    "    avg=s/64\n",
    "    #灰度大于平均值为1相反为0生成图片的hash值\n",
    "    for i in range(8):\n",
    "        for j in range(8):\n",
    "            if  gray[i,j]>avg:\n",
    "                hash_str=hash_str+'1'\n",
    "            else:\n",
    "                hash_str=hash_str+'0'            \n",
    "    return hash_str\n",
    " \n",
    "#差值算法\n",
    "def dHash(img):\n",
    "    #缩放8*9\n",
    "    img=cv2.resize(img,(9,8),interpolation=cv2.INTER_CUBIC)\n",
    "    #转换灰度图\n",
    "    gray=cv2.cvtColor(img,cv2.COLOR_BGR2GRAY)\n",
    "    hash_str=''\n",
    "    #每行前一个像素大于后一个像素为1，相反为0，生成哈希\n",
    "    for i in range(8):\n",
    "        for j in range(8):\n",
    "            if   gray[i,j]>gray[i,j+1]:\n",
    "                hash_str=hash_str+'1'\n",
    "            else:\n",
    "                hash_str=hash_str+'0'\n",
    "    return hash_str\n",
    " \n",
    "#Hash值对比\n",
    "def cmpHash(hash1,hash2):\n",
    "    n=0\n",
    "    #hash长度不同则返回-1代表传参出错\n",
    "    if len(hash1)!=len(hash2):\n",
    "        return -1\n",
    "    #遍历判断\n",
    "    for i in range(len(hash1)):\n",
    "        #不相等则n计数+1，n最终为相似度\n",
    "        if hash1[i]!=hash2[i]:\n",
    "            n=n+1\n",
    "    return n\n",
    " \n",
    "img1=cv2.imread('lenna.png')\n",
    "img2=cv2.imread('lenna_noise.png')\n",
    "hash1= aHash(img1)\n",
    "hash2= aHash(img2)\n",
    "print(hash1)\n",
    "print(hash2)\n",
    "n=cmpHash(hash1,hash2)\n",
    "print('均值哈希算法相似度：',n)\n",
    " \n",
    "hash1= dHash(img1)\n",
    "hash2= dHash(img2)\n",
    "print(hash1)\n",
    "print(hash2)\n",
    "n=cmpHash(hash1,hash2)\n",
    "print('差值哈希算法相似度：',n)\n"
   ]
  },
  {
   "cell_type": "code",
   "execution_count": null,
   "id": "e1f692bf",
   "metadata": {},
   "outputs": [],
   "source": []
  }
 ],
 "metadata": {
  "kernelspec": {
   "display_name": "Python 3 (ipykernel)",
   "language": "python",
   "name": "python3"
  },
  "language_info": {
   "codemirror_mode": {
    "name": "ipython",
    "version": 3
   },
   "file_extension": ".py",
   "mimetype": "text/x-python",
   "name": "python",
   "nbconvert_exporter": "python",
   "pygments_lexer": "ipython3",
   "version": "3.7.12"
  }
 },
 "nbformat": 4,
 "nbformat_minor": 5
}
