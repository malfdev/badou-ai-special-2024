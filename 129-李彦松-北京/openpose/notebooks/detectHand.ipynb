{
 "cells": [
  {
   "cell_type": "code",
   "execution_count": 2,
   "metadata": {},
   "outputs": [
    {
     "ename": "ImportError",
     "evalue": "attempted relative import with no known parent package",
     "output_type": "error",
     "traceback": [
      "\u001B[1;31m---------------------------------------------------------------------------\u001B[0m",
      "\u001B[1;31mImportError\u001B[0m                               Traceback (most recent call last)",
      "\u001B[1;32m~\\AppData\\Local\\Temp\\ipykernel_16200\\3100948387.py\u001B[0m in \u001B[0;36m<module>\u001B[1;34m\u001B[0m\n\u001B[0;32m      4\u001B[0m \u001B[0msys\u001B[0m\u001B[1;33m.\u001B[0m\u001B[0mpath\u001B[0m\u001B[1;33m.\u001B[0m\u001B[0minsert\u001B[0m\u001B[1;33m(\u001B[0m\u001B[1;36m0\u001B[0m\u001B[1;33m,\u001B[0m \u001B[1;34m'../src'\u001B[0m\u001B[1;33m)\u001B[0m\u001B[1;33m\u001B[0m\u001B[1;33m\u001B[0m\u001B[0m\n\u001B[0;32m      5\u001B[0m \u001B[1;32mimport\u001B[0m \u001B[0mcv2\u001B[0m\u001B[1;33m\u001B[0m\u001B[1;33m\u001B[0m\u001B[0m\n\u001B[1;32m----> 6\u001B[1;33m \u001B[1;32mfrom\u001B[0m \u001B[1;33m.\u001B[0m\u001B[1;33m.\u001B[0m\u001B[0msrc\u001B[0m \u001B[1;32mimport\u001B[0m \u001B[0mBody\u001B[0m\u001B[1;33m\u001B[0m\u001B[1;33m\u001B[0m\u001B[0m\n\u001B[0m\u001B[0;32m      7\u001B[0m \u001B[1;33m\u001B[0m\u001B[0m\n\u001B[0;32m      8\u001B[0m \u001B[1;32mimport\u001B[0m \u001B[0mmatplotlib\u001B[0m\u001B[1;33m.\u001B[0m\u001B[0mpyplot\u001B[0m \u001B[1;32mas\u001B[0m \u001B[0mplt\u001B[0m\u001B[1;33m\u001B[0m\u001B[1;33m\u001B[0m\u001B[0m\n",
      "\u001B[1;31mImportError\u001B[0m: attempted relative import with no known parent package"
     ]
    }
   ],
   "source": [
    "import os\n",
    "import sys\n",
    "sys.path.insert(0, '../python')\n",
    "sys.path.insert(0, '../')\n",
    "import sys\n",
    "import os\n",
    "\n",
    "sys.path.append(os.path.abspath('src'))\n",
    "import cv2\n",
    "from ..src import Body\n",
    "\n",
    "import matplotlib.pyplot as plt\n",
    "import copy\n",
    "import numpy as np\n",
    "import math\n",
    "\n",
    "body_estimation = Body('../model/body_pose_model.pth')\n",
    "\n",
    "test_image = '../images/demo.jpg'\n",
    "oriImg = cv2.imread(test_image)  # B,G,R order\n",
    "candidate, subset = body_estimation(oriImg)"
   ]
  },
  {
   "cell_type": "code",
   "execution_count": null,
   "metadata": {},
   "outputs": [],
   "source": [
    "limbSeq = [[2, 3], [2, 6], [3, 4], [4, 5], [6, 7], [7, 8], [2, 9], [9, 10], \\\n",
    "               [10, 11], [2, 12], [12, 13], [13, 14], [2, 1], [1, 15], [15, 17], \\\n",
    "               [1, 16], [16, 18], [3, 17], [6, 18]]\n",
    "colors = [[255, 0, 0], [255, 85, 0], [255, 170, 0], [255, 255, 0], [170, 255, 0], [85, 255, 0], [0, 255, 0], \\\n",
    "              [0, 255, 85], [0, 255, 170], [0, 255, 255], [0, 170, 255], [0, 85, 255], [0, 0, 255], [85, 0, 255], \\\n",
    "              [170, 0, 255], [255, 0, 255], [255, 0, 170], [255, 0, 85]]\n",
    "canvas = copy.deepcopy(oriImg)"
   ]
  },
  {
   "cell_type": "code",
   "execution_count": null,
   "metadata": {},
   "outputs": [],
   "source": [
    "# right hand: wrist 4, elbow 3, shoulder 2\n",
    "# left hand: wrist 7, elbow 6, shoulder 5\n",
    "ratioWristElbow = 0.33\n",
    "detect_result = []\n",
    "image_height = oriImg.shape[0]\n",
    "image_width = oriImg.shape[1]\n",
    "for person in subset.astype(int):\n",
    "    has_left = np.sum(person[[5, 6, 7]] == -1) == 0\n",
    "    has_right = np.sum(person[[2, 3, 4]] == -1) == 0\n",
    "    if not (has_left or has_right):\n",
    "        continue\n",
    "    # if any of three not detected\n",
    "    if has_left:\n",
    "        left_shoulder_index, left_elbow_index, left_wrist_index = person[[5, 6, 7]]\n",
    "        # pos_hand = pos_wrist + ratio * (pos_wrist - pos_elbox) = (1 + ratio) * pos_wrist - ratio * pos_elbox\n",
    "        # handRectangle.x = posePtr[wrist*3] + ratioWristElbow * (posePtr[wrist*3] - posePtr[elbow*3]);\n",
    "        # handRectangle.y = posePtr[wrist*3+1] + ratioWristElbow * (posePtr[wrist*3+1] - posePtr[elbow*3+1]);\n",
    "        # const auto distanceWristElbow = getDistance(poseKeypoints, person, wrist, elbow);\n",
    "        # const auto distanceElbowShoulder = getDistance(poseKeypoints, person, elbow, shoulder);\n",
    "        # handRectangle.width = 1.5f * fastMax(distanceWristElbow, 0.9f * distanceElbowShoulder);\n",
    "        x1, y1 = candidate[left_shoulder_index][:2]\n",
    "        x2, y2 = candidate[left_elbow_index][:2]\n",
    "        x3, y3 = candidate[left_wrist_index][:2]\n",
    "        \n",
    "        cv2.line(canvas, (int(x2), int(y2)), (int(x3), int(y3)), colors[0], thickness=4)\n",
    "        cv2.line(canvas, (int(x2), int(y2)), (int(x1), int(y1)), colors[1], thickness=4)\n",
    "        \n",
    "        cv2.circle(canvas, (int(x1), int(y1)), 4, colors[2], thickness=-1)\n",
    "        cv2.circle(canvas, (int(x2), int(y2)), 4, colors[3], thickness=-1)\n",
    "        cv2.circle(canvas, (int(x3), int(y3)), 4, colors[4], thickness=-1)\n",
    "        \n",
    "        x = x3 + ratioWristElbow*(x3-x2)\n",
    "        y = y3 + ratioWristElbow*(y3-y2)\n",
    "        distanceWristElbow = math.sqrt((x3-x2)**2+(y3-y2)**2)\n",
    "        distanceElbowShoulder = math.sqrt((x2-x1)**2+(y2-y1)**2)\n",
    "        width = 1.5*max(distanceWristElbow, 0.9*distanceElbowShoulder)\n",
    "        # x-y refers to the center --> offset to topLeft point\n",
    "        # handRectangle.x -= handRectangle.width / 2.f;\n",
    "        # handRectangle.y -= handRectangle.height / 2.f;\n",
    "        x -= width/2\n",
    "        y -= width/2 # width = height\n",
    "        is_left = True\n",
    "        if x<0: x=0\n",
    "        if y<0: y=0\n",
    "        width1 = width\n",
    "        width2 = width\n",
    "        if x+width>image_width: width1=image_width-x\n",
    "        if y+width>image_height: width2=image_height-y\n",
    "        width = min(width1, width2)\n",
    "        detect_result.append([int(x), int(y), int(width), is_left])\n",
    "\n",
    "    # right hand\n",
    "    if has_right:\n",
    "        right_shoulder_index, right_elbow_index, right_wrist_index = person[[2, 3, 4]]\n",
    "        x1, y1 = candidate[right_shoulder_index][:2]\n",
    "        x2, y2 = candidate[right_elbow_index][:2]\n",
    "        x3, y3 = candidate[right_wrist_index][:2]\n",
    "        \n",
    "        cv2.line(canvas, (int(x2), int(y2)), (int(x3), int(y3)), colors[2], thickness=4)\n",
    "        cv2.line(canvas, (int(x2), int(y2)), (int(x1), int(y1)), colors[3], thickness=4)\n",
    "        \n",
    "        cv2.circle(canvas, (int(x1), int(y1)), 4, colors[2], thickness=-1)\n",
    "        cv2.circle(canvas, (int(x2), int(y2)), 4, colors[3], thickness=-1)\n",
    "        cv2.circle(canvas, (int(x3), int(y3)), 4, colors[4], thickness=-1)\n",
    "        \n",
    "        x = x3 + ratioWristElbow*(x3-x2)\n",
    "        y = y3 + ratioWristElbow*(y3-y2)\n",
    "        distanceWristElbow = math.sqrt((x3-x2)**2+(y3-y2)**2)\n",
    "        distanceElbowShoulder = math.sqrt((x2-x1)**2+(y2-y1)**2)\n",
    "        width = 1.5*max(distanceWristElbow, 0.9*distanceElbowShoulder)\n",
    "        x -= width/2\n",
    "        y -= width/2 # width = height\n",
    "        is_left = False\n",
    "        if x<0: x=0\n",
    "        if y<0: y=0\n",
    "        width1 = width\n",
    "        width2 = width\n",
    "        if x+width>image_width: width1=image_width-x\n",
    "        if y+width>image_height: width2=image_height-y\n",
    "        width = min(width1, width2)\n",
    "        detect_result.append([int(x), int(y), int(width), is_left])"
   ]
  },
  {
   "cell_type": "code",
   "execution_count": null,
   "metadata": {},
   "outputs": [],
   "source": [
    "detect_result"
   ]
  },
  {
   "cell_type": "code",
   "execution_count": null,
   "metadata": {},
   "outputs": [],
   "source": [
    "for x, y, w, is_left in detect_result:\n",
    "    cv2.rectangle(canvas, (x, y), (x+w, y+w), (0, 255, 0), 2, lineType=cv2.LINE_AA)\n",
    "    cv2.putText(canvas, 'left' if is_left else 'right', (x, y), cv2.FONT_HERSHEY_SIMPLEX, 0.8, (255, 255, 255), lineType=cv2.LINE_AA)"
   ]
  },
  {
   "cell_type": "code",
   "execution_count": null,
   "metadata": {},
   "outputs": [],
   "source": [
    "plt.imshow(canvas[:, :, [2, 1, 0]])"
   ]
  },
  {
   "cell_type": "code",
   "execution_count": null,
   "metadata": {},
   "outputs": [],
   "source": []
  }
 ],
 "metadata": {
  "kernelspec": {
   "display_name": "Python 3",
   "language": "python",
   "name": "python3"
  },
  "language_info": {
   "codemirror_mode": {
    "name": "ipython",
    "version": 3
   },
   "file_extension": ".py",
   "mimetype": "text/x-python",
   "name": "python",
   "nbconvert_exporter": "python",
   "pygments_lexer": "ipython3",
   "version": "3.6.6"
  }
 },
 "nbformat": 4,
 "nbformat_minor": 2
}
