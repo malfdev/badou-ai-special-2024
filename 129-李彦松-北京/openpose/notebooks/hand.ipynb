{
 "cells": [
  {
   "cell_type": "code",
   "execution_count": 4,
   "metadata": {},
   "outputs": [
    {
     "ename": "ModuleNotFoundError",
     "evalue": "No module named 'src'",
     "output_type": "error",
     "traceback": [
      "\u001B[1;31m---------------------------------------------------------------------------\u001B[0m",
      "\u001B[1;31mModuleNotFoundError\u001B[0m                       Traceback (most recent call last)",
      "\u001B[1;32m~\\AppData\\Local\\Temp\\ipykernel_24104\\289156341.py\u001B[0m in \u001B[0;36m<module>\u001B[1;34m\u001B[0m\n\u001B[0;32m      5\u001B[0m \u001B[1;32mimport\u001B[0m \u001B[0mtorch\u001B[0m\u001B[1;33m\u001B[0m\u001B[1;33m\u001B[0m\u001B[0m\n\u001B[0;32m      6\u001B[0m \u001B[1;33m\u001B[0m\u001B[0m\n\u001B[1;32m----> 7\u001B[1;33m \u001B[1;32mfrom\u001B[0m \u001B[0msrc\u001B[0m\u001B[1;33m.\u001B[0m\u001B[0mModel\u001B[0m \u001B[1;32mimport\u001B[0m \u001B[0mhandpose_model\u001B[0m\u001B[1;33m\u001B[0m\u001B[1;33m\u001B[0m\u001B[0m\n\u001B[0m\u001B[0;32m      8\u001B[0m \u001B[1;32mimport\u001B[0m \u001B[0mnumpy\u001B[0m \u001B[1;32mas\u001B[0m \u001B[0mnp\u001B[0m\u001B[1;33m\u001B[0m\u001B[1;33m\u001B[0m\u001B[0m\n\u001B[0;32m      9\u001B[0m \u001B[1;32mimport\u001B[0m \u001B[0mcv2\u001B[0m\u001B[1;33m\u001B[0m\u001B[1;33m\u001B[0m\u001B[0m\n",
      "\u001B[1;31mModuleNotFoundError\u001B[0m: No module named 'src'"
     ]
    }
   ],
   "source": [
    "import sys\n",
    "import os\n",
    "sys.path.append(os.path.abspath('src'))\n",
    "import torch\n",
    "\n",
    "from src.Model import handpose_model\n",
    "import numpy as np\n",
    "import cv2\n",
    "from src import Util as util\n",
    "import math\n",
    "from scipy.ndimage.filters import gaussian_filter\n",
    "import matplotlib.pyplot as plt\n",
    "import matplotlib\n",
    "from torchvision import transforms"
   ]
  },
  {
   "cell_type": "code",
   "execution_count": null,
   "metadata": {},
   "outputs": [],
   "source": [
    "model = handpose_model()\n",
    "\n",
    "model_dict = torch.load('../model/hand_pose_model.pth')\n",
    "\n",
    "model.load_state_dict(util.transfer(model, model_dict))\n",
    "\n",
    "test_image = '../images/hand.jpg'\n",
    "oriImg = cv2.imread(test_image)  # B,G,R order\n",
    "\n",
    "scale_search = [0.5, 1.0, 1.5, 2.0]\n",
    "# scale_search = [0.5]\n",
    "boxsize = 368\n",
    "stride = 8\n",
    "padValue = 128\n",
    "thre = 0.05\n",
    "multiplier = [x * boxsize / oriImg.shape[0] for x in scale_search]\n",
    "heatmap_avg = np.zeros((oriImg.shape[0], oriImg.shape[1], 22))\n",
    "# paf_avg = np.zeros((oriImg.shape[0], oriImg.shape[1], 38))\n",
    "\n",
    "for m in range(len(multiplier)):\n",
    "    scale = multiplier[m]\n",
    "    imageToTest = cv2.resize(oriImg, (0, 0), fx=scale, fy=scale, interpolation=cv2.INTER_CUBIC)\n",
    "    imageToTest_padded, pad = util.padRightDownCorner(imageToTest, stride, padValue)\n",
    "    im = np.transpose(np.float32(imageToTest_padded[:, :, :, np.newaxis]), (3, 2, 0, 1)) / 256 - 0.5\n",
    "    im = np.ascontiguousarray(im)\n",
    "\n",
    "    data = torch.from_numpy(im).float()\n",
    "    if torch.cuda.is_available():\n",
    "        data = data.cuda()\n",
    "    # data = data.permute([2, 0, 1]).unsqueeze(0).float()\n",
    "    with torch.no_grad():\n",
    "        output = model(data).numpy()\n",
    "\n",
    "    # extract outputs, resize, and remove padding\n",
    "    heatmap = np.transpose(np.squeeze(output), (1, 2, 0))  # output 1 is heatmaps\n",
    "    heatmap = cv2.resize(heatmap, (0, 0), fx=stride, fy=stride, interpolation=cv2.INTER_CUBIC)\n",
    "    heatmap = heatmap[:imageToTest_padded.shape[0] - pad[2], :imageToTest_padded.shape[1] - pad[3], :]\n",
    "    heatmap = cv2.resize(heatmap, (oriImg.shape[1], oriImg.shape[0]), interpolation=cv2.INTER_CUBIC)\n",
    "\n",
    "    heatmap_avg += heatmap / len(multiplier)"
   ]
  },
  {
   "cell_type": "code",
   "execution_count": null,
   "metadata": {},
   "outputs": [],
   "source": [
    "import torchvision\n",
    "from PIL import Image\n",
    "import matplotlib.cm as cm\n",
    "\n",
    "def visualize(heatmap):\n",
    "    plt.figure(figsize=(20,20))\n",
    "    bg_list = torch.from_numpy(np.transpose(np.array([oriImg[:, :, [2, 1, 0]]]*22), (0, 3, 1, 2)))\n",
    "    w = oriImg.shape[0]\n",
    "    max_value = np.max(heatmap_avg)\n",
    "    min_value = np.min(heatmap_avg)\n",
    "    img_list = []\n",
    "    im = Image.open(test_image)\n",
    "    for i in range(22):\n",
    "        vis_img = (heatmap[:, :, i]-min_value)/max_value\n",
    "        vis_img = Image.fromarray(np.uint8(cm.jet(vis_img) * 255))\n",
    "        vis_img = vis_img.convert('RGB') # dropping alpha channel\n",
    "        vis_img = Image.blend(im, vis_img, 0.5)\n",
    "        vis_img = np.array(vis_img)\n",
    "        img_list.append(np.transpose(vis_img, (2, 0, 1)))\n",
    "    img_list = torchvision.utils.make_grid(torch.from_numpy(np.array(img_list)), nrow=11, padding=0)\n",
    "    plt.imshow(np.transpose(img_list.numpy(), (1, 2, 0))[...,::-1]) # bgr to rgb\n",
    "    plt.axis('off')\n",
    "visualize(heatmap_avg)"
   ]
  },
  {
   "cell_type": "code",
   "execution_count": null,
   "metadata": {},
   "outputs": [],
   "source": [
    "import copy\n",
    "heatmap_1 = copy.deepcopy(heatmap_avg)\n",
    "for part in range(21):\n",
    "    map_ori = heatmap_1[:, :, part]\n",
    "    one_heatmap = gaussian_filter(map_ori, sigma=3)\n",
    "    heatmap_1[:, :, part] = one_heatmap\n",
    "    \n",
    "visualize(heatmap_1)"
   ]
  },
  {
   "cell_type": "code",
   "execution_count": null,
   "metadata": {},
   "outputs": [],
   "source": [
    "heatmap_2 = copy.deepcopy(heatmap_1)\n",
    "heatmap_2[heatmap_2<thre] = 0\n",
    "visualize(heatmap_2)"
   ]
  },
  {
   "cell_type": "code",
   "execution_count": null,
   "metadata": {},
   "outputs": [],
   "source": [
    "from skimage.measure import label\n",
    "\n",
    "map_ori = heatmap_avg[:, :, 1]\n",
    "one_heatmap = gaussian_filter(map_ori, sigma=3)\n",
    "binary = np.ascontiguousarray(one_heatmap>0.05, dtype=np.uint8)\n",
    "label_img, label_numbers = label(binary, return_num=True, connectivity = binary.ndim)\n",
    "plt.imshow(oriImg[:, :, [2, 1, 0]])\n",
    "plt.imshow(label_img, alpha=.5, cmap=plt.cm.hot_r)\n",
    "plt.axis('off')"
   ]
  },
  {
   "cell_type": "code",
   "execution_count": null,
   "metadata": {},
   "outputs": [],
   "source": [
    "max_index = np.argmax([np.sum(map_ori[label_img == i]) for i in range(1, label_numbers+1)])+1\n",
    "label_img[label_img!=max_index] = 0\n",
    "map_ori[label_img==0] = 0\n",
    "def npmax(array):\n",
    "    arrayindex = array.argmax(1)\n",
    "    arrayvalue = array.max(1)\n",
    "    i = arrayvalue.argmax()\n",
    "    j = arrayindex[i]\n",
    "    return i, j\n",
    "y, x = npmax(map_ori)\n",
    "\n",
    "plt.imshow(oriImg[:, :, [2, 1, 0]])\n",
    "plt.plot(x, y,'r.')\n",
    "plt.text(x, y, '1')"
   ]
  },
  {
   "cell_type": "code",
   "execution_count": null,
   "metadata": {},
   "outputs": [],
   "source": [
    "all_peaks = []\n",
    "for part in range(21):\n",
    "    map_ori = heatmap_avg[:, :, part]\n",
    "    one_heatmap = gaussian_filter(map_ori, sigma=3)\n",
    "    binary = np.ascontiguousarray(one_heatmap>thre, dtype=np.uint8)\n",
    "    # 全部小于阈值\n",
    "    if np.sum(binary)==0:\n",
    "        all_peaks.append(-1)\n",
    "        continue\n",
    "    label_img, label_numbers = label(binary, return_num=True, connectivity = binary.ndim)\n",
    "    max_index = np.argmax([np.sum(map_ori[label_img == i]) for i in range(1, label_numbers+1)])+1\n",
    "    label_img[label_img!=max_index] = 0\n",
    "    map_ori[label_img==0] = 0\n",
    "    def npmax(array):\n",
    "        arrayindex = array.argmax(1)\n",
    "        arrayvalue = array.max(1)\n",
    "        i = arrayvalue.argmax()\n",
    "        j = arrayindex[i]\n",
    "        return i, j\n",
    "    y, x = npmax(map_ori)\n",
    "    all_peaks.append((x, y))"
   ]
  },
  {
   "cell_type": "code",
   "execution_count": null,
   "metadata": {},
   "outputs": [],
   "source": [
    "all_peaks"
   ]
  },
  {
   "cell_type": "code",
   "execution_count": null,
   "metadata": {},
   "outputs": [],
   "source": [
    "edges = [[0,1],[1,2],[2,3],[3,4],[0,5],[5,6],[6,7],[7,8],[0,9],[9,10], \\\n",
    "         [10,11],[11,12],[0,13],[13,14],[14,15],[15,16],[0,17],[17,18],[18,19],[19,20]]\n",
    "\n",
    "plt.imshow(oriImg[:, :, [2, 1, 0]])\n",
    "\n",
    "for i, (x, y) in enumerate(all_peaks):\n",
    "    plt.plot(x, y,'r.')\n",
    "    plt.text(x, y, str(i))\n",
    "for ie, e in enumerate(edges):\n",
    "    rgb = matplotlib.colors.hsv_to_rgb([ie/float(len(edges)), 1.0, 1.0])\n",
    "    x1, y1 = all_peaks[e[0]]\n",
    "    x2, y2 = all_peaks[e[1]]\n",
    "    plt.plot([x1, x2], [y1, y2], color=rgb)\n",
    "plt.axis('off')\n",
    "plt.show()"
   ]
  },
  {
   "cell_type": "code",
   "execution_count": null,
   "metadata": {},
   "outputs": [],
   "source": []
  }
 ],
 "metadata": {
  "kernelspec": {
   "display_name": "Python 3",
   "language": "python",
   "name": "python3"
  },
  "language_info": {
   "codemirror_mode": {
    "name": "ipython",
    "version": 3
   },
   "file_extension": ".py",
   "mimetype": "text/x-python",
   "name": "python",
   "nbconvert_exporter": "python",
   "pygments_lexer": "ipython3",
   "version": "3.6.6"
  }
 },
 "nbformat": 4,
 "nbformat_minor": 2
}
